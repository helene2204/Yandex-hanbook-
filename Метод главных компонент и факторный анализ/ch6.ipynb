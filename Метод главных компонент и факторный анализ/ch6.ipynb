{
 "cells": [
  {
   "cell_type": "code",
   "execution_count": 4,
   "metadata": {},
   "outputs": [],
   "source": [
    "import pandas as pd\n",
    "from statsmodels.multivariate.factor import Factor"
   ]
  },
  {
   "attachments": {},
   "cell_type": "markdown",
   "metadata": {},
   "source": [
    "\n",
    "A. Знакомство с датасетом\n",
    "\n",
    "В этой и последующих задачах мы будем работать с датасетом, основанном на исследовании мировых ценностей WVS Wave 6 (2010-2014).\n",
    "\n",
    "Оригинальный датасет находится по ссылке: Inglehart, R., C. Haerpfer, A. Moreno, C. Welzel, K. Kizilova, J. Diez-Medrano, M. Lagos, P. Norris, E. Ponarin & B. Puranen et al. (eds.). 2014. World Values Survey: Round Six - Country-Pooled Datafile Version.\n",
    "\n",
    "В нем 420 колонок, мы будем работать с переменными, связанными с доверием к разным социальным институтам (с V108 по V124). Более подробно о кодировке переменных в датасете можно посмотреть по той же ссылке, название файла: 'F00007761-WV6_Codebook_v20180912'.\n",
    "\n",
    "index\tquestions\tencoding\n",
    "0\tConfidence: The Churches\tV108\n",
    "1\tConfidence: The armed forces\tV109\n",
    "2\tConfidence: The press\tV110\n",
    "3\tConfidence: Television\tV111\n",
    "4\tConfidence: Labour Unions\tV112\n",
    "5\tConfidence: The police\tV113\n",
    "6\tConfidence: The courts\tV114\n",
    "7\tConfidence: The government (in your nation’s capital)\tV115\n",
    "8\tConfidence: Political Parties\tV116\n",
    "9\tConfidence: Parliament\tV117\n",
    "10\tConfidence: The Civil service\tV118\n",
    "11\tConfidence: Universities\tV119\n",
    "12\tConfidence: Major Companies\tV120\n",
    "13\tConfidence: Banks\tV121\n",
    "14\tConfidence: Environmental organizations\tV122\n",
    "15\tConfidence: Womens organizations\tV123\n",
    "Датасет доступен под названием 'WVSW_6_2010_2014.csv'.\n",
    "\n",
    "Загрузите датасет и выведите типы всех переменных с помощью функции: dtypes."
   ]
  },
  {
   "cell_type": "code",
   "execution_count": 45,
   "metadata": {},
   "outputs": [],
   "source": [
    "df=pd.read_csv(\"WVSW 6 2010-2014.csv\")"
   ]
  },
  {
   "cell_type": "code",
   "execution_count": 3,
   "metadata": {},
   "outputs": [
    {
     "data": {
      "text/plain": [
       "V108    int64\n",
       "V109    int64\n",
       "V110    int64\n",
       "V111    int64\n",
       "V112    int64\n",
       "V113    int64\n",
       "V114    int64\n",
       "V115    int64\n",
       "V116    int64\n",
       "V117    int64\n",
       "V118    int64\n",
       "V119    int64\n",
       "V120    int64\n",
       "V121    int64\n",
       "V122    int64\n",
       "V123    int64\n",
       "dtype: object"
      ]
     },
     "execution_count": 3,
     "metadata": {},
     "output_type": "execute_result"
    }
   ],
   "source": [
    "df.dtypes"
   ]
  },
  {
   "attachments": {},
   "cell_type": "markdown",
   "metadata": {},
   "source": [
    "B. Сколько вопросов попадают в первый фактор?\n",
    "В этой и последующих задачах мы продолжим работать с датасетом, основанном на исследовании мировых ценностей WVS Wave 6 (2010-2014).\n",
    "\n",
    "Оригинальный датасет находится по ссылке: Inglehart, R., C. Haerpfer, A. Moreno, C. Welzel, K. Kizilova, J. Diez-Medrano, M. Lagos, P. Norris, E. Ponarin & B. Puranen et al. (eds.). 2014. World Values Survey: Round Six - Country-Pooled Datafile Version.\n",
    "\n",
    "Напоминаем, факторный анализ — метод, подразумевающий выявление и последующее объединение нескольких переменных в один фактор путем определения их математической схожести по общей дисперсии переменных. Фактор — переменная, включающая в себя набор других переменных, связанных статистически.\n",
    "\n",
    "Для выявления количества переменных, которые могут быть объединены в факторы, необходимо выбрать оптимальное количество факторов. Одним из способов выбора оптимального количества факторов является Scree plot. Scree plot — один из способов реализации \"метода локтя\". На графике Scree plot добавлена черная линия на значении 1 по оси Y. По оси X показано количество факторов.\n",
    "\n",
    "<img src=\"image.png\"/>\n",
    "\n",
    "Для того, чтобы понять какое количество факторов нам нужно для факторного анализа, мы можем посмотреть на все точки графика, которые занимают значения больше единицы по оси Y. Та точка на графике, которая будет пересекать значения больше единицы или находится около нее, и указывает нам на значение оси X. А значение по оси X и будет являтся нужным количеством факторов.\n",
    "В ответе напишите, какое количество факторов нам необходимо выделить при факторном анализе. Например, print(1)\n"
   ]
  },
  {
   "cell_type": "code",
   "execution_count": 46,
   "metadata": {},
   "outputs": [],
   "source": [
    "fa=Factor(df,n_factor=4,method='pa')\n",
    "res=fa.fit()"
   ]
  },
  {
   "cell_type": "code",
   "execution_count": 48,
   "metadata": {},
   "outputs": [
    {
     "data": {
      "image/png": "[encoded data removed]",
      "text/plain": [
       "<Figure size 432x288 with 2 Axes>"
      ]
     },
     "metadata": {
      "needs_background": "light"
     },
     "output_type": "display_data"
    }
   ],
   "source": [
    "import matplotlib.pyplot as plt\n",
    "res.plot_scree()\n",
    "plt.show()\n"
   ]
  },
  {
   "cell_type": "code",
   "execution_count": 14,
   "metadata": {},
   "outputs": [
    {
     "name": "stdout",
     "output_type": "stream",
     "text": [
      "4\n"
     ]
    }
   ],
   "source": [
    "print(4)"
   ]
  },
  {
   "attachments": {},
   "cell_type": "markdown",
   "metadata": {},
   "source": [
    "C. Какие вопросы попадают в первый фактор?\n",
    "\n",
    "Мы продолжаем работу с датасетом, основанном на исследовании мировых ценностей WVS Wave 6 (2010-2014).\n",
    "\n",
    "Оригинальный датасет находится по ссылке: Inglehart, R., C. Haerpfer, A. Moreno, C. Welzel, K. Kizilova, J. Diez-Medrano, M. Lagos, P. Norris, E. Ponarin & B. Puranen et al. (eds.). 2014. World Values Survey: Round Six - Country-Pooled Datafile Version.\n",
    "\n",
    "Факторный анализ – это метод, который позволяет сводить несколько статистически близких переменных к одной. В предыдущих задачах, мы определели, что у нас выделяются четыре фактора с собственным значением больше единицы. В этой задаче мы провели факторный анализ с четырьмя факторами для вас, ниже показан код для проведения факторного анализа:"
   ]
  },
  {
   "cell_type": "code",
   "execution_count": 49,
   "metadata": {},
   "outputs": [
    {
     "name": "stdout",
     "output_type": "stream",
     "text": [
      "             0         1         2         3\n",
      "V108  0.220949  0.227508  0.125863  0.276780\n",
      "V109  0.147345  0.354425  0.091936  0.297278\n",
      "V110  0.234577  0.231798  0.178381  0.739146\n",
      "V111  0.195620  0.258944  0.171618  0.730537\n",
      "V112  0.276735  0.171220  0.565347  0.210604\n",
      "V113  0.189254  0.640520  0.193780  0.244847\n",
      "V114  0.250646  0.679081  0.213182  0.203260\n",
      "V115  0.229086  0.589156  0.340337  0.214478\n",
      "V116  0.120432  0.263889  0.906908  0.127442\n",
      "V117  0.306237  0.486868  0.409409  0.213911\n",
      "V118  0.312803  0.383849  0.479410  0.185986\n",
      "V119  0.550071  0.298363  0.130487  0.193020\n",
      "V120  0.610771  0.265979  0.150999  0.197733\n",
      "V121  0.530750  0.311098  0.128284  0.240175\n",
      "V122  0.750848  0.123382  0.179472  0.129423\n",
      "V123  0.691752  0.105002  0.165271  0.127352\n"
     ]
    }
   ],
   "source": [
    "import pandas as pd \n",
    "from factor_analyzer import FactorAnalyzer\n",
    "df = pd.read_csv(\"WVSW 6 2010-2014.csv\")\n",
    "fa = FactorAnalyzer(n_factors=4, rotation='varimax')\n",
    "res=fa.fit(df)\n",
    "factor_df = pd.DataFrame(fa.loadings_, index=df.columns)\n",
    "print(factor_df)\n"
   ]
  },
  {
   "cell_type": "code",
   "execution_count": 50,
   "metadata": {},
   "outputs": [
    {
     "name": "stdout",
     "output_type": "stream",
     "text": [
      "V119 V120 V121 V122 V123\n"
     ]
    }
   ],
   "source": [
    "print(*factor_df[factor_df[0]>0.5][0].index.tolist())\n"
   ]
  },
  {
   "attachments": {},
   "cell_type": "markdown",
   "metadata": {},
   "source": [
    "D. Какие вопросы не попадают ни в один фактор?\n",
    "\n",
    "В предыдущей задаче вы определили переменные, которые относятся к первому фактору. А теперь вам нужно вывести названия переменных, у которых во всех столбцах значение меньше 0,5."
   ]
  },
  {
   "cell_type": "code",
   "execution_count": 51,
   "metadata": {},
   "outputs": [
    {
     "name": "stdout",
     "output_type": "stream",
     "text": [
      "V108 V109 V117 V118\n"
     ]
    }
   ],
   "source": [
    "print(*factor_df[(factor_df[0]<0.5)&(factor_df[1]<0.5)&(factor_df[2]<0.5)&(factor_df[3]<0.5)].index.tolist())"
   ]
  },
  {
   "attachments": {},
   "cell_type": "markdown",
   "metadata": {},
   "source": [
    "E. Есть ли вопросы, которые попадают в два фактора при значении больше 0.4?\n",
    "\n",
    "В предыдущей задаче вы определили, что при значении больше 0.5 три переменных не будут относится ни к одному фактору. Мы выяснили, какие переменные относятся к первому фактору и какие переменные не относятся ни к одному фактору. В факторном анализе иногда происходит так, что при определенном значении переменная может относиться к двум факторам.\n",
    "\n",
    "Давайте изменим условие и определим, какие названия переменных при значении больше 0.4 относятся к двум факторам."
   ]
  },
  {
   "cell_type": "code",
   "execution_count": 52,
   "metadata": {},
   "outputs": [
    {
     "name": "stdout",
     "output_type": "stream",
     "text": [
      "V117\n"
     ]
    }
   ],
   "source": [
    "factor_df=factor_df.assign(fac0=[1 if x>0.4 else 0 for x in factor_df[0]])\n",
    "factor_df=factor_df.assign(fac1=[1 if x>0.4 else 0 for x in factor_df[1]])\n",
    "factor_df=factor_df.assign(fac2=[1 if x>0.4 else 0 for x in factor_df[2]])\n",
    "factor_df=factor_df.assign(fac3=[1 if x>0.4 else 0 for x in factor_df[3]])\n",
    "factor_df['sum']=factor_df[['fac0','fac1','fac2','fac3']].sum(axis=1)\n",
    "print(*factor_df[factor_df['sum']==2].index.tolist())"
   ]
  }
 ],
 "metadata": {
  "kernelspec": {
   "display_name": "Python 3",
   "language": "python",
   "name": "python3"
  },
  "language_info": {
   "codemirror_mode": {
    "name": "ipython",
    "version": 3
   },
   "file_extension": ".py",
   "mimetype": "text/x-python",
   "name": "python",
   "nbconvert_exporter": "python",
   "pygments_lexer": "ipython3",
   "version": "3.8.5"
  },
  "orig_nbformat": 4
 },
 "nbformat": 4,
 "nbformat_minor": 2
}
