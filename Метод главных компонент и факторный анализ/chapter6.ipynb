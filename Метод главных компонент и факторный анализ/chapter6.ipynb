{
 "cells": [
  {
   "cell_type": "code",
   "execution_count": 1,
   "metadata": {},
   "outputs": [],
   "source": [
    "import pandas as pd"
   ]
  },
  {
   "cell_type": "code",
   "execution_count": 2,
   "metadata": {},
   "outputs": [],
   "source": [
    "from statsmodels.multivariate.factor import Factor"
   ]
  },
  {
   "cell_type": "code",
   "execution_count": 3,
   "metadata": {},
   "outputs": [
    {
     "data": {
      "text/plain": [
       "Index(['Diabetes_012', 'HighBP', 'HighChol', 'CholCheck', 'BMI', 'Smoker',\n",
       "       'Stroke', 'HeartDiseaseorAttack', 'PhysActivity', 'Fruits', 'Veggies',\n",
       "       'HvyAlcoholConsump', 'AnyHealthcare', 'NoDocbcCost', 'GenHlth',\n",
       "       'MentHlth', 'PhysHlth', 'DiffWalk', 'Sex', 'Age', 'Education',\n",
       "       'Income'],\n",
       "      dtype='object')"
      ]
     },
     "execution_count": 3,
     "metadata": {},
     "output_type": "execute_result"
    }
   ],
   "source": [
    "df=pd.read_csv('archive/diabetes_012_health_indicators_BRFSS2015.csv')\n",
    "df.columns"
   ]
  },
  {
   "cell_type": "code",
   "execution_count": 4,
   "metadata": {},
   "outputs": [
    {
     "data": {
      "text/plain": [
       "(253680, 22)"
      ]
     },
     "execution_count": 4,
     "metadata": {},
     "output_type": "execute_result"
    }
   ],
   "source": [
    "df.shape"
   ]
  },
  {
   "cell_type": "code",
   "execution_count": 10,
   "metadata": {},
   "outputs": [],
   "source": [
    "df_sample=df.sample(1000)"
   ]
  },
  {
   "cell_type": "code",
   "execution_count": 11,
   "metadata": {},
   "outputs": [],
   "source": [
    "df_sample = df_sample[['HighBP', 'HighChol', 'CholCheck', 'BMI', 'Smoker',\n",
    "                       'Stroke', 'HeartDiseaseorAttack', 'PhysActivity', 'Fruits', 'Veggies',\n",
    "                       'HvyAlcoholConsump', 'AnyHealthcare', 'NoDocbcCost', 'GenHlth',\n",
    "                       'MentHlth', 'PhysHlth', 'DiffWalk', 'Sex', 'Age', 'Education',\n",
    "                       'Income']]\n"
   ]
  },
  {
   "cell_type": "code",
   "execution_count": 12,
   "metadata": {},
   "outputs": [
    {
     "name": "stdout",
     "output_type": "stream",
     "text": [
      "            HighBP     HighChol    CholCheck          BMI       Smoker  \\\n",
      "count  1000.000000  1000.000000  1000.000000  1000.000000  1000.000000   \n",
      "mean      0.010100     0.015943    -0.024632     0.020221    -0.028522   \n",
      "std       1.001896     1.002818     1.058652     1.017659     0.996820   \n",
      "min      -0.866784    -0.858180    -5.078154    -1.873648    -0.892117   \n",
      "25%      -0.866784    -0.858180     0.196921    -0.663121    -0.892117   \n",
      "50%      -0.866784    -0.858180     0.196921    -0.209173    -0.892117   \n",
      "75%       1.153686     1.165252     0.196921     0.396090     1.120925   \n",
      "max       1.153686     1.165252     0.196921     7.356618     1.120925   \n",
      "\n",
      "            Stroke  HeartDiseaseorAttack  PhysActivity       Fruits  \\\n",
      "count  1000.000000           1000.000000   1000.000000  1000.000000   \n",
      "mean     -0.002893             -0.034872      0.029024     0.040994   \n",
      "std       0.993731              0.950149      0.982558     0.988149   \n",
      "min      -0.205636             -0.322457     -1.762810    -1.316869   \n",
      "25%      -0.205636             -0.322457      0.567274    -1.316869   \n",
      "50%      -0.205636             -0.322457      0.567274     0.759374   \n",
      "75%      -0.205636             -0.322457      0.567274     0.759374   \n",
      "max       4.862939              3.101177      0.567274     0.759374   \n",
      "\n",
      "           Veggies  ...  AnyHealthcare  NoDocbcCost      GenHlth     MentHlth  \\\n",
      "count  1000.000000  ...    1000.000000  1000.000000  1000.000000  1000.000000   \n",
      "mean     -0.052201  ...       0.022931     0.031777    -0.034060     0.005966   \n",
      "std       1.039937  ...       0.951052     1.046548     0.981804     1.011062   \n",
      "min      -2.074312  ...      -4.407945    -0.303173    -1.414529    -0.429629   \n",
      "25%       0.482086  ...       0.226862    -0.303173    -0.478618    -0.429629   \n",
      "50%       0.482086  ...       0.226862    -0.303173    -0.478618    -0.429629   \n",
      "75%       0.482086  ...       0.226862    -0.303173     0.457293    -0.159827   \n",
      "max       0.482086  ...       0.226862     3.298439     2.329116     3.617399   \n",
      "\n",
      "          PhysHlth     DiffWalk          Sex          Age    Education  \\\n",
      "count  1000.000000  1000.000000  1000.000000  1000.000000  1000.000000   \n",
      "mean     -0.055871    -0.021985     0.029527     0.021898     0.012748   \n",
      "std       0.936773     0.980549     1.003608     0.979304     0.959120   \n",
      "min      -0.486591    -0.449717    -0.887019    -2.302427    -3.094455   \n",
      "25%      -0.486591    -0.449717    -0.887019    -0.665348    -1.065593   \n",
      "50%      -0.486591    -0.449717    -0.887019    -0.010516    -0.051161   \n",
      "75%      -0.257180    -0.449717     1.127367     0.644315     0.963270   \n",
      "max       2.954584     2.223611     1.127367     1.626563     0.963270   \n",
      "\n",
      "            Income  \n",
      "count  1000.000000  \n",
      "mean      0.075381  \n",
      "std       0.935440  \n",
      "min      -2.440133  \n",
      "25%      -0.508836  \n",
      "50%       0.456812  \n",
      "75%       0.939636  \n",
      "max       0.939636  \n",
      "\n",
      "[8 rows x 21 columns]\n"
     ]
    }
   ],
   "source": [
    "print(df_sample.describe())"
   ]
  },
  {
   "cell_type": "code",
   "execution_count": 9,
   "metadata": {},
   "outputs": [],
   "source": [
    "for col in df.columns:\n",
    "  df[col]=(df[col]-df[col].mean())/df[col].std()"
   ]
  },
  {
   "cell_type": "code",
   "execution_count": 15,
   "metadata": {},
   "outputs": [],
   "source": [
    "fa=Factor(df,n_factor=3,method='pa')\n",
    "res=fa.fit()"
   ]
  },
  {
   "cell_type": "code",
   "execution_count": 16,
   "metadata": {},
   "outputs": [
    {
     "data": {
      "text/html": [
       "<style  type=\"text/css\" >\n",
       "#T_0c7b13b9_1440_11ef_abd9_54ab3a82d845row0_col0,#T_0c7b13b9_1440_11ef_abd9_54ab3a82d845row1_col0,#T_0c7b13b9_1440_11ef_abd9_54ab3a82d845row2_col0,#T_0c7b13b9_1440_11ef_abd9_54ab3a82d845row3_col0,#T_0c7b13b9_1440_11ef_abd9_54ab3a82d845row4_col0,#T_0c7b13b9_1440_11ef_abd9_54ab3a82d845row5_col0,#T_0c7b13b9_1440_11ef_abd9_54ab3a82d845row6_col0,#T_0c7b13b9_1440_11ef_abd9_54ab3a82d845row7_col0,#T_0c7b13b9_1440_11ef_abd9_54ab3a82d845row8_col0,#T_0c7b13b9_1440_11ef_abd9_54ab3a82d845row9_col0,#T_0c7b13b9_1440_11ef_abd9_54ab3a82d845row10_col0,#T_0c7b13b9_1440_11ef_abd9_54ab3a82d845row15_col1,#T_0c7b13b9_1440_11ef_abd9_54ab3a82d845row16_col1,#T_0c7b13b9_1440_11ef_abd9_54ab3a82d845row17_col1{\n",
       "            color:  black;\n",
       "            background-color:  yellow;\n",
       "        }#T_0c7b13b9_1440_11ef_abd9_54ab3a82d845row0_col1,#T_0c7b13b9_1440_11ef_abd9_54ab3a82d845row0_col2,#T_0c7b13b9_1440_11ef_abd9_54ab3a82d845row1_col1,#T_0c7b13b9_1440_11ef_abd9_54ab3a82d845row1_col2,#T_0c7b13b9_1440_11ef_abd9_54ab3a82d845row2_col1,#T_0c7b13b9_1440_11ef_abd9_54ab3a82d845row3_col1,#T_0c7b13b9_1440_11ef_abd9_54ab3a82d845row3_col2,#T_0c7b13b9_1440_11ef_abd9_54ab3a82d845row4_col2,#T_0c7b13b9_1440_11ef_abd9_54ab3a82d845row5_col1,#T_0c7b13b9_1440_11ef_abd9_54ab3a82d845row6_col1,#T_0c7b13b9_1440_11ef_abd9_54ab3a82d845row6_col2,#T_0c7b13b9_1440_11ef_abd9_54ab3a82d845row7_col1,#T_0c7b13b9_1440_11ef_abd9_54ab3a82d845row7_col2,#T_0c7b13b9_1440_11ef_abd9_54ab3a82d845row8_col1,#T_0c7b13b9_1440_11ef_abd9_54ab3a82d845row8_col2,#T_0c7b13b9_1440_11ef_abd9_54ab3a82d845row9_col1,#T_0c7b13b9_1440_11ef_abd9_54ab3a82d845row9_col2,#T_0c7b13b9_1440_11ef_abd9_54ab3a82d845row10_col2,#T_0c7b13b9_1440_11ef_abd9_54ab3a82d845row11_col1,#T_0c7b13b9_1440_11ef_abd9_54ab3a82d845row11_col2,#T_0c7b13b9_1440_11ef_abd9_54ab3a82d845row12_col1,#T_0c7b13b9_1440_11ef_abd9_54ab3a82d845row12_col2,#T_0c7b13b9_1440_11ef_abd9_54ab3a82d845row13_col1,#T_0c7b13b9_1440_11ef_abd9_54ab3a82d845row13_col2,#T_0c7b13b9_1440_11ef_abd9_54ab3a82d845row14_col1,#T_0c7b13b9_1440_11ef_abd9_54ab3a82d845row14_col2,#T_0c7b13b9_1440_11ef_abd9_54ab3a82d845row15_col2,#T_0c7b13b9_1440_11ef_abd9_54ab3a82d845row16_col0,#T_0c7b13b9_1440_11ef_abd9_54ab3a82d845row16_col2,#T_0c7b13b9_1440_11ef_abd9_54ab3a82d845row17_col0,#T_0c7b13b9_1440_11ef_abd9_54ab3a82d845row17_col2,#T_0c7b13b9_1440_11ef_abd9_54ab3a82d845row18_col0,#T_0c7b13b9_1440_11ef_abd9_54ab3a82d845row18_col2,#T_0c7b13b9_1440_11ef_abd9_54ab3a82d845row19_col0,#T_0c7b13b9_1440_11ef_abd9_54ab3a82d845row19_col1,#T_0c7b13b9_1440_11ef_abd9_54ab3a82d845row20_col0,#T_0c7b13b9_1440_11ef_abd9_54ab3a82d845row20_col1,#T_0c7b13b9_1440_11ef_abd9_54ab3a82d845row21_col0,#T_0c7b13b9_1440_11ef_abd9_54ab3a82d845row21_col1{\n",
       "            color:  white;\n",
       "        }#T_0c7b13b9_1440_11ef_abd9_54ab3a82d845row2_col2,#T_0c7b13b9_1440_11ef_abd9_54ab3a82d845row4_col1,#T_0c7b13b9_1440_11ef_abd9_54ab3a82d845row5_col2,#T_0c7b13b9_1440_11ef_abd9_54ab3a82d845row10_col1,#T_0c7b13b9_1440_11ef_abd9_54ab3a82d845row15_col0{\n",
       "            color:  black;\n",
       "        }#T_0c7b13b9_1440_11ef_abd9_54ab3a82d845row11_col0,#T_0c7b13b9_1440_11ef_abd9_54ab3a82d845row12_col0,#T_0c7b13b9_1440_11ef_abd9_54ab3a82d845row13_col0,#T_0c7b13b9_1440_11ef_abd9_54ab3a82d845row14_col0,#T_0c7b13b9_1440_11ef_abd9_54ab3a82d845row18_col1,#T_0c7b13b9_1440_11ef_abd9_54ab3a82d845row19_col2,#T_0c7b13b9_1440_11ef_abd9_54ab3a82d845row20_col2,#T_0c7b13b9_1440_11ef_abd9_54ab3a82d845row21_col2{\n",
       "            color:  white;\n",
       "            background-color:  yellow;\n",
       "        }</style><table id=\"T_0c7b13b9_1440_11ef_abd9_54ab3a82d845\" ><thead>    <tr>        <th class=\"blank level0\" ></th>        <th class=\"col_heading level0 col0\" >factor 0</th>        <th class=\"col_heading level0 col1\" >factor 1</th>        <th class=\"col_heading level0 col2\" >factor 2</th>    </tr></thead><tbody>\n",
       "                <tr>\n",
       "                        <th id=\"T_0c7b13b9_1440_11ef_abd9_54ab3a82d845level0_row0\" class=\"row_heading level0 row0\" >GenHlth</th>\n",
       "                        <td id=\"T_0c7b13b9_1440_11ef_abd9_54ab3a82d845row0_col0\" class=\"data row0 col0\" >-0.737669</td>\n",
       "                        <td id=\"T_0c7b13b9_1440_11ef_abd9_54ab3a82d845row0_col1\" class=\"data row0 col1\" >0.068634</td>\n",
       "                        <td id=\"T_0c7b13b9_1440_11ef_abd9_54ab3a82d845row0_col2\" class=\"data row0 col2\" >-0.109523</td>\n",
       "            </tr>\n",
       "            <tr>\n",
       "                        <th id=\"T_0c7b13b9_1440_11ef_abd9_54ab3a82d845level0_row1\" class=\"row_heading level0 row1\" >DiffWalk</th>\n",
       "                        <td id=\"T_0c7b13b9_1440_11ef_abd9_54ab3a82d845row1_col0\" class=\"data row1 col0\" >-0.619598</td>\n",
       "                        <td id=\"T_0c7b13b9_1440_11ef_abd9_54ab3a82d845row1_col1\" class=\"data row1 col1\" >0.020068</td>\n",
       "                        <td id=\"T_0c7b13b9_1440_11ef_abd9_54ab3a82d845row1_col2\" class=\"data row1 col2\" >-0.190070</td>\n",
       "            </tr>\n",
       "            <tr>\n",
       "                        <th id=\"T_0c7b13b9_1440_11ef_abd9_54ab3a82d845level0_row2\" class=\"row_heading level0 row2\" >PhysHlth</th>\n",
       "                        <td id=\"T_0c7b13b9_1440_11ef_abd9_54ab3a82d845row2_col0\" class=\"data row2 col0\" >-0.617161</td>\n",
       "                        <td id=\"T_0c7b13b9_1440_11ef_abd9_54ab3a82d845row2_col1\" class=\"data row2 col1\" >0.159663</td>\n",
       "                        <td id=\"T_0c7b13b9_1440_11ef_abd9_54ab3a82d845row2_col2\" class=\"data row2 col2\" >-0.386552</td>\n",
       "            </tr>\n",
       "            <tr>\n",
       "                        <th id=\"T_0c7b13b9_1440_11ef_abd9_54ab3a82d845level0_row3\" class=\"row_heading level0 row3\" >Income</th>\n",
       "                        <td id=\"T_0c7b13b9_1440_11ef_abd9_54ab3a82d845row3_col0\" class=\"data row3 col0\" >0.538718</td>\n",
       "                        <td id=\"T_0c7b13b9_1440_11ef_abd9_54ab3a82d845row3_col1\" class=\"data row3 col1\" >-0.226002</td>\n",
       "                        <td id=\"T_0c7b13b9_1440_11ef_abd9_54ab3a82d845row3_col2\" class=\"data row3 col2\" >-0.227963</td>\n",
       "            </tr>\n",
       "            <tr>\n",
       "                        <th id=\"T_0c7b13b9_1440_11ef_abd9_54ab3a82d845level0_row4\" class=\"row_heading level0 row4\" >HighBP</th>\n",
       "                        <td id=\"T_0c7b13b9_1440_11ef_abd9_54ab3a82d845row4_col0\" class=\"data row4 col0\" >-0.447299</td>\n",
       "                        <td id=\"T_0c7b13b9_1440_11ef_abd9_54ab3a82d845row4_col1\" class=\"data row4 col1\" >-0.363881</td>\n",
       "                        <td id=\"T_0c7b13b9_1440_11ef_abd9_54ab3a82d845row4_col2\" class=\"data row4 col2\" >0.104761</td>\n",
       "            </tr>\n",
       "            <tr>\n",
       "                        <th id=\"T_0c7b13b9_1440_11ef_abd9_54ab3a82d845level0_row5\" class=\"row_heading level0 row5\" >Education</th>\n",
       "                        <td id=\"T_0c7b13b9_1440_11ef_abd9_54ab3a82d845row5_col0\" class=\"data row5 col0\" >0.424014</td>\n",
       "                        <td id=\"T_0c7b13b9_1440_11ef_abd9_54ab3a82d845row5_col1\" class=\"data row5 col1\" >-0.163657</td>\n",
       "                        <td id=\"T_0c7b13b9_1440_11ef_abd9_54ab3a82d845row5_col2\" class=\"data row5 col2\" >-0.361375</td>\n",
       "            </tr>\n",
       "            <tr>\n",
       "                        <th id=\"T_0c7b13b9_1440_11ef_abd9_54ab3a82d845level0_row6\" class=\"row_heading level0 row6\" >Diabetes_012</th>\n",
       "                        <td id=\"T_0c7b13b9_1440_11ef_abd9_54ab3a82d845row6_col0\" class=\"data row6 col0\" >-0.400204</td>\n",
       "                        <td id=\"T_0c7b13b9_1440_11ef_abd9_54ab3a82d845row6_col1\" class=\"data row6 col1\" >-0.189760</td>\n",
       "                        <td id=\"T_0c7b13b9_1440_11ef_abd9_54ab3a82d845row6_col2\" class=\"data row6 col2\" >0.042026</td>\n",
       "            </tr>\n",
       "            <tr>\n",
       "                        <th id=\"T_0c7b13b9_1440_11ef_abd9_54ab3a82d845level0_row7\" class=\"row_heading level0 row7\" >PhysActivity</th>\n",
       "                        <td id=\"T_0c7b13b9_1440_11ef_abd9_54ab3a82d845row7_col0\" class=\"data row7 col0\" >0.367441</td>\n",
       "                        <td id=\"T_0c7b13b9_1440_11ef_abd9_54ab3a82d845row7_col1\" class=\"data row7 col1\" >-0.081766</td>\n",
       "                        <td id=\"T_0c7b13b9_1440_11ef_abd9_54ab3a82d845row7_col2\" class=\"data row7 col2\" >-0.083452</td>\n",
       "            </tr>\n",
       "            <tr>\n",
       "                        <th id=\"T_0c7b13b9_1440_11ef_abd9_54ab3a82d845level0_row8\" class=\"row_heading level0 row8\" >MentHlth</th>\n",
       "                        <td id=\"T_0c7b13b9_1440_11ef_abd9_54ab3a82d845row8_col0\" class=\"data row8 col0\" >-0.354017</td>\n",
       "                        <td id=\"T_0c7b13b9_1440_11ef_abd9_54ab3a82d845row8_col1\" class=\"data row8 col1\" >0.290727</td>\n",
       "                        <td id=\"T_0c7b13b9_1440_11ef_abd9_54ab3a82d845row8_col2\" class=\"data row8 col2\" >-0.206318</td>\n",
       "            </tr>\n",
       "            <tr>\n",
       "                        <th id=\"T_0c7b13b9_1440_11ef_abd9_54ab3a82d845level0_row9\" class=\"row_heading level0 row9\" >HeartDiseaseorAttack</th>\n",
       "                        <td id=\"T_0c7b13b9_1440_11ef_abd9_54ab3a82d845row9_col0\" class=\"data row9 col0\" >-0.352930</td>\n",
       "                        <td id=\"T_0c7b13b9_1440_11ef_abd9_54ab3a82d845row9_col1\" class=\"data row9 col1\" >-0.205995</td>\n",
       "                        <td id=\"T_0c7b13b9_1440_11ef_abd9_54ab3a82d845row9_col2\" class=\"data row9 col2\" >-0.002117</td>\n",
       "            </tr>\n",
       "            <tr>\n",
       "                        <th id=\"T_0c7b13b9_1440_11ef_abd9_54ab3a82d845level0_row10\" class=\"row_heading level0 row10\" >HighChol</th>\n",
       "                        <td id=\"T_0c7b13b9_1440_11ef_abd9_54ab3a82d845row10_col0\" class=\"data row10 col0\" >-0.319341</td>\n",
       "                        <td id=\"T_0c7b13b9_1440_11ef_abd9_54ab3a82d845row10_col1\" class=\"data row10 col1\" >-0.308964</td>\n",
       "                        <td id=\"T_0c7b13b9_1440_11ef_abd9_54ab3a82d845row10_col2\" class=\"data row10 col2\" >0.044016</td>\n",
       "            </tr>\n",
       "            <tr>\n",
       "                        <th id=\"T_0c7b13b9_1440_11ef_abd9_54ab3a82d845level0_row11\" class=\"row_heading level0 row11\" >BMI</th>\n",
       "                        <td id=\"T_0c7b13b9_1440_11ef_abd9_54ab3a82d845row11_col0\" class=\"data row11 col0\" >-0.281967</td>\n",
       "                        <td id=\"T_0c7b13b9_1440_11ef_abd9_54ab3a82d845row11_col1\" class=\"data row11 col1\" >-0.001763</td>\n",
       "                        <td id=\"T_0c7b13b9_1440_11ef_abd9_54ab3a82d845row11_col2\" class=\"data row11 col2\" >0.035224</td>\n",
       "            </tr>\n",
       "            <tr>\n",
       "                        <th id=\"T_0c7b13b9_1440_11ef_abd9_54ab3a82d845level0_row12\" class=\"row_heading level0 row12\" >Stroke</th>\n",
       "                        <td id=\"T_0c7b13b9_1440_11ef_abd9_54ab3a82d845row12_col0\" class=\"data row12 col0\" >-0.258486</td>\n",
       "                        <td id=\"T_0c7b13b9_1440_11ef_abd9_54ab3a82d845row12_col1\" class=\"data row12 col1\" >-0.090523</td>\n",
       "                        <td id=\"T_0c7b13b9_1440_11ef_abd9_54ab3a82d845row12_col2\" class=\"data row12 col2\" >-0.029735</td>\n",
       "            </tr>\n",
       "            <tr>\n",
       "                        <th id=\"T_0c7b13b9_1440_11ef_abd9_54ab3a82d845level0_row13\" class=\"row_heading level0 row13\" >Smoker</th>\n",
       "                        <td id=\"T_0c7b13b9_1440_11ef_abd9_54ab3a82d845row13_col0\" class=\"data row13 col0\" >-0.230391</td>\n",
       "                        <td id=\"T_0c7b13b9_1440_11ef_abd9_54ab3a82d845row13_col1\" class=\"data row13 col1\" >-0.013582</td>\n",
       "                        <td id=\"T_0c7b13b9_1440_11ef_abd9_54ab3a82d845row13_col2\" class=\"data row13 col2\" >0.095306</td>\n",
       "            </tr>\n",
       "            <tr>\n",
       "                        <th id=\"T_0c7b13b9_1440_11ef_abd9_54ab3a82d845level0_row14\" class=\"row_heading level0 row14\" >HvyAlcoholConsump</th>\n",
       "                        <td id=\"T_0c7b13b9_1440_11ef_abd9_54ab3a82d845row14_col0\" class=\"data row14 col0\" >0.047816</td>\n",
       "                        <td id=\"T_0c7b13b9_1440_11ef_abd9_54ab3a82d845row14_col1\" class=\"data row14 col1\" >0.032178</td>\n",
       "                        <td id=\"T_0c7b13b9_1440_11ef_abd9_54ab3a82d845row14_col2\" class=\"data row14 col2\" >0.005972</td>\n",
       "            </tr>\n",
       "            <tr>\n",
       "                        <th id=\"T_0c7b13b9_1440_11ef_abd9_54ab3a82d845level0_row15\" class=\"row_heading level0 row15\" >Age</th>\n",
       "                        <td id=\"T_0c7b13b9_1440_11ef_abd9_54ab3a82d845row15_col0\" class=\"data row15 col0\" >-0.309105</td>\n",
       "                        <td id=\"T_0c7b13b9_1440_11ef_abd9_54ab3a82d845row15_col1\" class=\"data row15 col1\" >-0.512428</td>\n",
       "                        <td id=\"T_0c7b13b9_1440_11ef_abd9_54ab3a82d845row15_col2\" class=\"data row15 col2\" >0.065973</td>\n",
       "            </tr>\n",
       "            <tr>\n",
       "                        <th id=\"T_0c7b13b9_1440_11ef_abd9_54ab3a82d845level0_row16\" class=\"row_heading level0 row16\" >NoDocbcCost</th>\n",
       "                        <td id=\"T_0c7b13b9_1440_11ef_abd9_54ab3a82d845row16_col0\" class=\"data row16 col0\" >-0.204794</td>\n",
       "                        <td id=\"T_0c7b13b9_1440_11ef_abd9_54ab3a82d845row16_col1\" class=\"data row16 col1\" >0.322927</td>\n",
       "                        <td id=\"T_0c7b13b9_1440_11ef_abd9_54ab3a82d845row16_col2\" class=\"data row16 col2\" >0.013308</td>\n",
       "            </tr>\n",
       "            <tr>\n",
       "                        <th id=\"T_0c7b13b9_1440_11ef_abd9_54ab3a82d845level0_row17\" class=\"row_heading level0 row17\" >AnyHealthcare</th>\n",
       "                        <td id=\"T_0c7b13b9_1440_11ef_abd9_54ab3a82d845row17_col0\" class=\"data row17 col0\" >0.058841</td>\n",
       "                        <td id=\"T_0c7b13b9_1440_11ef_abd9_54ab3a82d845row17_col1\" class=\"data row17 col1\" >-0.310637</td>\n",
       "                        <td id=\"T_0c7b13b9_1440_11ef_abd9_54ab3a82d845row17_col2\" class=\"data row17 col2\" >-0.167731</td>\n",
       "            </tr>\n",
       "            <tr>\n",
       "                        <th id=\"T_0c7b13b9_1440_11ef_abd9_54ab3a82d845level0_row18\" class=\"row_heading level0 row18\" >CholCheck</th>\n",
       "                        <td id=\"T_0c7b13b9_1440_11ef_abd9_54ab3a82d845row18_col0\" class=\"data row18 col0\" >-0.066922</td>\n",
       "                        <td id=\"T_0c7b13b9_1440_11ef_abd9_54ab3a82d845row18_col1\" class=\"data row18 col1\" >-0.186768</td>\n",
       "                        <td id=\"T_0c7b13b9_1440_11ef_abd9_54ab3a82d845row18_col2\" class=\"data row18 col2\" >-0.061885</td>\n",
       "            </tr>\n",
       "            <tr>\n",
       "                        <th id=\"T_0c7b13b9_1440_11ef_abd9_54ab3a82d845level0_row19\" class=\"row_heading level0 row19\" >Veggies</th>\n",
       "                        <td id=\"T_0c7b13b9_1440_11ef_abd9_54ab3a82d845row19_col0\" class=\"data row19 col0\" >0.192825</td>\n",
       "                        <td id=\"T_0c7b13b9_1440_11ef_abd9_54ab3a82d845row19_col1\" class=\"data row19 col1\" >-0.097494</td>\n",
       "                        <td id=\"T_0c7b13b9_1440_11ef_abd9_54ab3a82d845row19_col2\" class=\"data row19 col2\" >-0.235942</td>\n",
       "            </tr>\n",
       "            <tr>\n",
       "                        <th id=\"T_0c7b13b9_1440_11ef_abd9_54ab3a82d845level0_row20\" class=\"row_heading level0 row20\" >Fruits</th>\n",
       "                        <td id=\"T_0c7b13b9_1440_11ef_abd9_54ab3a82d845row20_col0\" class=\"data row20 col0\" >0.147737</td>\n",
       "                        <td id=\"T_0c7b13b9_1440_11ef_abd9_54ab3a82d845row20_col1\" class=\"data row20 col1\" >-0.124464</td>\n",
       "                        <td id=\"T_0c7b13b9_1440_11ef_abd9_54ab3a82d845row20_col2\" class=\"data row20 col2\" >-0.209050</td>\n",
       "            </tr>\n",
       "            <tr>\n",
       "                        <th id=\"T_0c7b13b9_1440_11ef_abd9_54ab3a82d845level0_row21\" class=\"row_heading level0 row21\" >Sex</th>\n",
       "                        <td id=\"T_0c7b13b9_1440_11ef_abd9_54ab3a82d845row21_col0\" class=\"data row21 col0\" >0.024453</td>\n",
       "                        <td id=\"T_0c7b13b9_1440_11ef_abd9_54ab3a82d845row21_col1\" class=\"data row21 col1\" >-0.090759</td>\n",
       "                        <td id=\"T_0c7b13b9_1440_11ef_abd9_54ab3a82d845row21_col2\" class=\"data row21 col2\" >0.109054</td>\n",
       "            </tr>\n",
       "    </tbody></table>"
      ],
      "text/plain": [
       "<pandas.io.formats.style.Styler at 0x62da6cd850>"
      ]
     },
     "execution_count": 16,
     "metadata": {},
     "output_type": "execute_result"
    }
   ],
   "source": [
    "res.get_loadings_frame(threshold=0.3)\n"
   ]
  },
  {
   "cell_type": "code",
   "execution_count": 19,
   "metadata": {},
   "outputs": [
    {
     "data": {
      "image/png": "[encoded data removed]",
      "text/plain": [
       "<Figure size 432x288 with 2 Axes>"
      ]
     },
     "metadata": {
      "needs_background": "light"
     },
     "output_type": "display_data"
    }
   ],
   "source": [
    "import matplotlib.pyplot as plt\n",
    "res.plot_scree()\n",
    "plt.show()"
   ]
  },
  {
   "cell_type": "code",
   "execution_count": 18,
   "metadata": {},
   "outputs": [
    {
     "data": {
      "text/html": [
       "<style  type=\"text/css\" >\n",
       "#T_594a26b9_1440_11ef_83bd_54ab3a82d845row0_col0,#T_594a26b9_1440_11ef_83bd_54ab3a82d845row1_col0,#T_594a26b9_1440_11ef_83bd_54ab3a82d845row2_col0,#T_594a26b9_1440_11ef_83bd_54ab3a82d845row3_col0,#T_594a26b9_1440_11ef_83bd_54ab3a82d845row4_col0,#T_594a26b9_1440_11ef_83bd_54ab3a82d845row5_col0,#T_594a26b9_1440_11ef_83bd_54ab3a82d845row6_col0,#T_594a26b9_1440_11ef_83bd_54ab3a82d845row7_col0,#T_594a26b9_1440_11ef_83bd_54ab3a82d845row8_col0,#T_594a26b9_1440_11ef_83bd_54ab3a82d845row9_col0,#T_594a26b9_1440_11ef_83bd_54ab3a82d845row10_col0,#T_594a26b9_1440_11ef_83bd_54ab3a82d845row17_col1,#T_594a26b9_1440_11ef_83bd_54ab3a82d845row18_col1,#T_594a26b9_1440_11ef_83bd_54ab3a82d845row19_col1{\n",
       "            color:  black;\n",
       "            background-color:  yellow;\n",
       "        }#T_594a26b9_1440_11ef_83bd_54ab3a82d845row0_col1,#T_594a26b9_1440_11ef_83bd_54ab3a82d845row1_col1,#T_594a26b9_1440_11ef_83bd_54ab3a82d845row2_col1,#T_594a26b9_1440_11ef_83bd_54ab3a82d845row3_col1,#T_594a26b9_1440_11ef_83bd_54ab3a82d845row5_col1,#T_594a26b9_1440_11ef_83bd_54ab3a82d845row6_col1,#T_594a26b9_1440_11ef_83bd_54ab3a82d845row7_col1,#T_594a26b9_1440_11ef_83bd_54ab3a82d845row8_col1,#T_594a26b9_1440_11ef_83bd_54ab3a82d845row9_col1,#T_594a26b9_1440_11ef_83bd_54ab3a82d845row11_col1,#T_594a26b9_1440_11ef_83bd_54ab3a82d845row12_col1,#T_594a26b9_1440_11ef_83bd_54ab3a82d845row13_col1,#T_594a26b9_1440_11ef_83bd_54ab3a82d845row14_col1,#T_594a26b9_1440_11ef_83bd_54ab3a82d845row15_col1,#T_594a26b9_1440_11ef_83bd_54ab3a82d845row16_col1,#T_594a26b9_1440_11ef_83bd_54ab3a82d845row18_col0,#T_594a26b9_1440_11ef_83bd_54ab3a82d845row19_col0,#T_594a26b9_1440_11ef_83bd_54ab3a82d845row20_col0,#T_594a26b9_1440_11ef_83bd_54ab3a82d845row21_col0{\n",
       "            color:  white;\n",
       "        }#T_594a26b9_1440_11ef_83bd_54ab3a82d845row4_col1,#T_594a26b9_1440_11ef_83bd_54ab3a82d845row10_col1,#T_594a26b9_1440_11ef_83bd_54ab3a82d845row17_col0{\n",
       "            color:  black;\n",
       "        }#T_594a26b9_1440_11ef_83bd_54ab3a82d845row11_col0,#T_594a26b9_1440_11ef_83bd_54ab3a82d845row12_col0,#T_594a26b9_1440_11ef_83bd_54ab3a82d845row13_col0,#T_594a26b9_1440_11ef_83bd_54ab3a82d845row14_col0,#T_594a26b9_1440_11ef_83bd_54ab3a82d845row15_col0,#T_594a26b9_1440_11ef_83bd_54ab3a82d845row16_col0,#T_594a26b9_1440_11ef_83bd_54ab3a82d845row20_col1,#T_594a26b9_1440_11ef_83bd_54ab3a82d845row21_col1{\n",
       "            color:  white;\n",
       "            background-color:  yellow;\n",
       "        }</style><table id=\"T_594a26b9_1440_11ef_83bd_54ab3a82d845\" ><thead>    <tr>        <th class=\"blank level0\" ></th>        <th class=\"col_heading level0 col0\" >factor 0</th>        <th class=\"col_heading level0 col1\" >factor 1</th>    </tr></thead><tbody>\n",
       "                <tr>\n",
       "                        <th id=\"T_594a26b9_1440_11ef_83bd_54ab3a82d845level0_row0\" class=\"row_heading level0 row0\" >GenHlth</th>\n",
       "                        <td id=\"T_594a26b9_1440_11ef_83bd_54ab3a82d845row0_col0\" class=\"data row0 col0\" >-0.741637</td>\n",
       "                        <td id=\"T_594a26b9_1440_11ef_83bd_54ab3a82d845row0_col1\" class=\"data row0 col1\" >0.083683</td>\n",
       "            </tr>\n",
       "            <tr>\n",
       "                        <th id=\"T_594a26b9_1440_11ef_83bd_54ab3a82d845level0_row1\" class=\"row_heading level0 row1\" >DiffWalk</th>\n",
       "                        <td id=\"T_594a26b9_1440_11ef_83bd_54ab3a82d845row1_col0\" class=\"data row1 col0\" >-0.615037</td>\n",
       "                        <td id=\"T_594a26b9_1440_11ef_83bd_54ab3a82d845row1_col1\" class=\"data row1 col1\" >0.030573</td>\n",
       "            </tr>\n",
       "            <tr>\n",
       "                        <th id=\"T_594a26b9_1440_11ef_83bd_54ab3a82d845level0_row2\" class=\"row_heading level0 row2\" >PhysHlth</th>\n",
       "                        <td id=\"T_594a26b9_1440_11ef_83bd_54ab3a82d845row2_col0\" class=\"data row2 col0\" >-0.581406</td>\n",
       "                        <td id=\"T_594a26b9_1440_11ef_83bd_54ab3a82d845row2_col1\" class=\"data row2 col1\" >0.145172</td>\n",
       "            </tr>\n",
       "            <tr>\n",
       "                        <th id=\"T_594a26b9_1440_11ef_83bd_54ab3a82d845level0_row3\" class=\"row_heading level0 row3\" >Income</th>\n",
       "                        <td id=\"T_594a26b9_1440_11ef_83bd_54ab3a82d845row3_col0\" class=\"data row3 col0\" >0.530215</td>\n",
       "                        <td id=\"T_594a26b9_1440_11ef_83bd_54ab3a82d845row3_col1\" class=\"data row3 col1\" >-0.222359</td>\n",
       "            </tr>\n",
       "            <tr>\n",
       "                        <th id=\"T_594a26b9_1440_11ef_83bd_54ab3a82d845level0_row4\" class=\"row_heading level0 row4\" >HighBP</th>\n",
       "                        <td id=\"T_594a26b9_1440_11ef_83bd_54ab3a82d845row4_col0\" class=\"data row4 col0\" >-0.451796</td>\n",
       "                        <td id=\"T_594a26b9_1440_11ef_83bd_54ab3a82d845row4_col1\" class=\"data row4 col1\" >-0.351930</td>\n",
       "            </tr>\n",
       "            <tr>\n",
       "                        <th id=\"T_594a26b9_1440_11ef_83bd_54ab3a82d845level0_row5\" class=\"row_heading level0 row5\" >Education</th>\n",
       "                        <td id=\"T_594a26b9_1440_11ef_83bd_54ab3a82d845row5_col0\" class=\"data row5 col0\" >0.406282</td>\n",
       "                        <td id=\"T_594a26b9_1440_11ef_83bd_54ab3a82d845row5_col1\" class=\"data row5 col1\" >-0.149496</td>\n",
       "            </tr>\n",
       "            <tr>\n",
       "                        <th id=\"T_594a26b9_1440_11ef_83bd_54ab3a82d845level0_row6\" class=\"row_heading level0 row6\" >Diabetes_012</th>\n",
       "                        <td id=\"T_594a26b9_1440_11ef_83bd_54ab3a82d845row6_col0\" class=\"data row6 col0\" >-0.405267</td>\n",
       "                        <td id=\"T_594a26b9_1440_11ef_83bd_54ab3a82d845row6_col1\" class=\"data row6 col1\" >-0.181449</td>\n",
       "            </tr>\n",
       "            <tr>\n",
       "                        <th id=\"T_594a26b9_1440_11ef_83bd_54ab3a82d845level0_row7\" class=\"row_heading level0 row7\" >PhysActivity</th>\n",
       "                        <td id=\"T_594a26b9_1440_11ef_83bd_54ab3a82d845row7_col0\" class=\"data row7 col0\" >0.369167</td>\n",
       "                        <td id=\"T_594a26b9_1440_11ef_83bd_54ab3a82d845row7_col1\" class=\"data row7 col1\" >-0.088940</td>\n",
       "            </tr>\n",
       "            <tr>\n",
       "                        <th id=\"T_594a26b9_1440_11ef_83bd_54ab3a82d845level0_row8\" class=\"row_heading level0 row8\" >HeartDiseaseorAttack</th>\n",
       "                        <td id=\"T_594a26b9_1440_11ef_83bd_54ab3a82d845row8_col0\" class=\"data row8 col0\" >-0.357461</td>\n",
       "                        <td id=\"T_594a26b9_1440_11ef_83bd_54ab3a82d845row8_col1\" class=\"data row8 col1\" >-0.200975</td>\n",
       "            </tr>\n",
       "            <tr>\n",
       "                        <th id=\"T_594a26b9_1440_11ef_83bd_54ab3a82d845level0_row9\" class=\"row_heading level0 row9\" >MentHlth</th>\n",
       "                        <td id=\"T_594a26b9_1440_11ef_83bd_54ab3a82d845row9_col0\" class=\"data row9 col0\" >-0.348669</td>\n",
       "                        <td id=\"T_594a26b9_1440_11ef_83bd_54ab3a82d845row9_col1\" class=\"data row9 col1\" >0.287648</td>\n",
       "            </tr>\n",
       "            <tr>\n",
       "                        <th id=\"T_594a26b9_1440_11ef_83bd_54ab3a82d845level0_row10\" class=\"row_heading level0 row10\" >HighChol</th>\n",
       "                        <td id=\"T_594a26b9_1440_11ef_83bd_54ab3a82d845row10_col0\" class=\"data row10 col0\" >-0.324368</td>\n",
       "                        <td id=\"T_594a26b9_1440_11ef_83bd_54ab3a82d845row10_col1\" class=\"data row10 col1\" >-0.304135</td>\n",
       "            </tr>\n",
       "            <tr>\n",
       "                        <th id=\"T_594a26b9_1440_11ef_83bd_54ab3a82d845level0_row11\" class=\"row_heading level0 row11\" >BMI</th>\n",
       "                        <td id=\"T_594a26b9_1440_11ef_83bd_54ab3a82d845row11_col0\" class=\"data row11 col0\" >-0.285145</td>\n",
       "                        <td id=\"T_594a26b9_1440_11ef_83bd_54ab3a82d845row11_col1\" class=\"data row11 col1\" >0.007491</td>\n",
       "            </tr>\n",
       "            <tr>\n",
       "                        <th id=\"T_594a26b9_1440_11ef_83bd_54ab3a82d845level0_row12\" class=\"row_heading level0 row12\" >Stroke</th>\n",
       "                        <td id=\"T_594a26b9_1440_11ef_83bd_54ab3a82d845row12_col0\" class=\"data row12 col0\" >-0.261099</td>\n",
       "                        <td id=\"T_594a26b9_1440_11ef_83bd_54ab3a82d845row12_col1\" class=\"data row12 col1\" >-0.086540</td>\n",
       "            </tr>\n",
       "            <tr>\n",
       "                        <th id=\"T_594a26b9_1440_11ef_83bd_54ab3a82d845level0_row13\" class=\"row_heading level0 row13\" >Smoker</th>\n",
       "                        <td id=\"T_594a26b9_1440_11ef_83bd_54ab3a82d845row13_col0\" class=\"data row13 col0\" >-0.231503</td>\n",
       "                        <td id=\"T_594a26b9_1440_11ef_83bd_54ab3a82d845row13_col1\" class=\"data row13 col1\" >-0.010580</td>\n",
       "            </tr>\n",
       "            <tr>\n",
       "                        <th id=\"T_594a26b9_1440_11ef_83bd_54ab3a82d845level0_row14\" class=\"row_heading level0 row14\" >Veggies</th>\n",
       "                        <td id=\"T_594a26b9_1440_11ef_83bd_54ab3a82d845row14_col0\" class=\"data row14 col0\" >0.190521</td>\n",
       "                        <td id=\"T_594a26b9_1440_11ef_83bd_54ab3a82d845row14_col1\" class=\"data row14 col1\" >-0.096646</td>\n",
       "            </tr>\n",
       "            <tr>\n",
       "                        <th id=\"T_594a26b9_1440_11ef_83bd_54ab3a82d845level0_row15\" class=\"row_heading level0 row15\" >Fruits</th>\n",
       "                        <td id=\"T_594a26b9_1440_11ef_83bd_54ab3a82d845row15_col0\" class=\"data row15 col0\" >0.146599</td>\n",
       "                        <td id=\"T_594a26b9_1440_11ef_83bd_54ab3a82d845row15_col1\" class=\"data row15 col1\" >-0.124445</td>\n",
       "            </tr>\n",
       "            <tr>\n",
       "                        <th id=\"T_594a26b9_1440_11ef_83bd_54ab3a82d845level0_row16\" class=\"row_heading level0 row16\" >HvyAlcoholConsump</th>\n",
       "                        <td id=\"T_594a26b9_1440_11ef_83bd_54ab3a82d845row16_col0\" class=\"data row16 col0\" >0.048291</td>\n",
       "                        <td id=\"T_594a26b9_1440_11ef_83bd_54ab3a82d845row16_col1\" class=\"data row16 col1\" >0.031777</td>\n",
       "            </tr>\n",
       "            <tr>\n",
       "                        <th id=\"T_594a26b9_1440_11ef_83bd_54ab3a82d845level0_row17\" class=\"row_heading level0 row17\" >Age</th>\n",
       "                        <td id=\"T_594a26b9_1440_11ef_83bd_54ab3a82d845row17_col0\" class=\"data row17 col0\" >-0.314581</td>\n",
       "                        <td id=\"T_594a26b9_1440_11ef_83bd_54ab3a82d845row17_col1\" class=\"data row17 col1\" >-0.513400</td>\n",
       "            </tr>\n",
       "            <tr>\n",
       "                        <th id=\"T_594a26b9_1440_11ef_83bd_54ab3a82d845level0_row18\" class=\"row_heading level0 row18\" >NoDocbcCost</th>\n",
       "                        <td id=\"T_594a26b9_1440_11ef_83bd_54ab3a82d845row18_col0\" class=\"data row18 col0\" >-0.205196</td>\n",
       "                        <td id=\"T_594a26b9_1440_11ef_83bd_54ab3a82d845row18_col1\" class=\"data row18 col1\" >0.333023</td>\n",
       "            </tr>\n",
       "            <tr>\n",
       "                        <th id=\"T_594a26b9_1440_11ef_83bd_54ab3a82d845level0_row19\" class=\"row_heading level0 row19\" >AnyHealthcare</th>\n",
       "                        <td id=\"T_594a26b9_1440_11ef_83bd_54ab3a82d845row19_col0\" class=\"data row19 col0\" >0.057390</td>\n",
       "                        <td id=\"T_594a26b9_1440_11ef_83bd_54ab3a82d845row19_col1\" class=\"data row19 col1\" >-0.307329</td>\n",
       "            </tr>\n",
       "            <tr>\n",
       "                        <th id=\"T_594a26b9_1440_11ef_83bd_54ab3a82d845level0_row20\" class=\"row_heading level0 row20\" >CholCheck</th>\n",
       "                        <td id=\"T_594a26b9_1440_11ef_83bd_54ab3a82d845row20_col0\" class=\"data row20 col0\" >-0.068376</td>\n",
       "                        <td id=\"T_594a26b9_1440_11ef_83bd_54ab3a82d845row20_col1\" class=\"data row20 col1\" >-0.186715</td>\n",
       "            </tr>\n",
       "            <tr>\n",
       "                        <th id=\"T_594a26b9_1440_11ef_83bd_54ab3a82d845level0_row21\" class=\"row_heading level0 row21\" >Sex</th>\n",
       "                        <td id=\"T_594a26b9_1440_11ef_83bd_54ab3a82d845row21_col0\" class=\"data row21 col0\" >0.023290</td>\n",
       "                        <td id=\"T_594a26b9_1440_11ef_83bd_54ab3a82d845row21_col1\" class=\"data row21 col1\" >-0.089382</td>\n",
       "            </tr>\n",
       "    </tbody></table>"
      ],
      "text/plain": [
       "<pandas.io.formats.style.Styler at 0x62de2f46d0>"
      ]
     },
     "execution_count": 18,
     "metadata": {},
     "output_type": "execute_result"
    }
   ],
   "source": [
    "fa = Factor(df, n_factor=2, method='pa')\n",
    "res = fa.fit()\n",
    "res.get_loadings_frame(threshold=0.3)\n"
   ]
  },
  {
   "attachments": {},
   "cell_type": "markdown",
   "metadata": {},
   "source": [
    "В итоге мы можем сделать следующий вывод: факторы, потенциально связанные с сахарным диабетом могут быть объединены в две группы. Одни касаются уровня жизни, другие возрастных изменений."
   ]
  },
  {
   "cell_type": "code",
   "execution_count": null,
   "metadata": {},
   "outputs": [],
   "source": []
  }
 ],
 "metadata": {
  "kernelspec": {
   "display_name": "Python 3",
   "language": "python",
   "name": "python3"
  },
  "language_info": {
   "codemirror_mode": {
    "name": "ipython",
    "version": 3
   },
   "file_extension": ".py",
   "mimetype": "text/x-python",
   "name": "python",
   "nbconvert_exporter": "python",
   "pygments_lexer": "ipython3",
   "version": "3.8.5"
  },
  "orig_nbformat": 4
 },
 "nbformat": 4,
 "nbformat_minor": 2
}
