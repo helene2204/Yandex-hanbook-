{
 "cells": [
  {
   "cell_type": "code",
   "execution_count": 1,
   "metadata": {},
   "outputs": [],
   "source": [
    "import pandas as pd"
   ]
  },
  {
   "attachments": {},
   "cell_type": "markdown",
   "metadata": {},
   "source": [
    "A. Ознакомление с датасетом\n",
    "\n",
    "В этой и последующих задачах мы будем работать с датасетом влияния COVID-19 на образование, психическое здоровье и распорядок дня учащихся. Ознакомиться с полной версией датасета можно по ссылке: https://www.kaggle.com/datasets/kunal28chaturvedi/covid19-and-its-impact-on-students.\n",
    "\n",
    "Датасет доступен под названием 'COVID-19 SSR.csv'\n",
    "\n",
    "В датасете содержатся такие переменные как время на занятия, самостоятельное обучение, просмотр страниц в социальных сетях в день, а также соц-демографические характеристики учащихся (возраст, регион проживания) и другие.\n",
    "\n",
    "Вам необходимо вывести наиболее частый тип переменных встречаемый в датасете."
   ]
  },
  {
   "cell_type": "code",
   "execution_count": 2,
   "metadata": {},
   "outputs": [],
   "source": [
    "df=pd.read_csv(\"COVID-19 SSR.csv\")"
   ]
  },
  {
   "cell_type": "code",
   "execution_count": 3,
   "metadata": {},
   "outputs": [
    {
     "name": "stdout",
     "output_type": "stream",
     "text": [
      "<class 'pandas.core.frame.DataFrame'>\n",
      "RangeIndex: 1182 entries, 0 to 1181\n",
      "Columns: 20 entries, Unnamed: 0 to What you miss the most\n",
      "dtypes: float64(5), int64(3), object(12)\n",
      "memory usage: 184.8+ KB\n"
     ]
    }
   ],
   "source": [
    "df.info(verbose=False)"
   ]
  },
  {
   "cell_type": "code",
   "execution_count": 4,
   "metadata": {},
   "outputs": [
    {
     "data": {
      "text/plain": [
       "Unnamed: 0                                                                              int64\n",
       "ID                                                                                     object\n",
       "Region of residence                                                                    object\n",
       "Age of Subject                                                                          int64\n",
       "Time spent on Online Class                                                            float64\n",
       "Rating of Online Class experience                                                      object\n",
       "Medium for online class                                                                object\n",
       "Time spent on self study                                                              float64\n",
       "Time spent on fitness                                                                 float64\n",
       "Time spent on sleep                                                                   float64\n",
       "Time spent on social media                                                            float64\n",
       "Prefered social media platform                                                         object\n",
       "Time spent on TV                                                                       object\n",
       "Number of meals per day                                                                 int64\n",
       "Change in your weight                                                                  object\n",
       "Health issue during lockdown                                                           object\n",
       "Stress busters                                                                         object\n",
       "Time utilized                                                                          object\n",
       "Do you find yourself more connected with your family, close friends , relatives  ?     object\n",
       "What you miss the most                                                                 object\n",
       "dtype: object"
      ]
     },
     "execution_count": 4,
     "metadata": {},
     "output_type": "execute_result"
    }
   ],
   "source": [
    "df.dtypes"
   ]
  },
  {
   "attachments": {},
   "cell_type": "markdown",
   "metadata": {},
   "source": [
    "B. Изменяем капслок\n",
    "\n",
    "Не всегда данные в одной колонке имеют одинаковое оформление. Например, одно значение написано буквами верхнего регистра, а другое - нижнего. Для приведения значений в категориальных переменных к одному виду существует набор функций.\n",
    "\n",
    "title() - преобразовывает слова в формате title, где первое слово в строке начинается с символа верхнего регистра, а остальные приводятся к символам нижнего регистра (Например, \"привет, студенты!\" преобразуется в \"Привет, студенты!\").\n",
    "\n",
    "В датасете'COVID-19 SSR.csv' в переменной 'Rating of Online Class experience' все значения записаны символами верхнего регистра (Например, \"GOOD\").\n",
    "\n",
    "Вам необходимо привести значения переменной 'Rating of Online Class experience' к значению \"GOOD\" с помощью функции title(). Например, df('Название переменной').str.title().\n",
    "\n",
    "В выдаче выведите пять первых значения переменной 'Rating of Online Class experience'.\n",
    "\n",
    "Датасет доступен под названием 'COVID-19 SSR.csv'"
   ]
  },
  {
   "cell_type": "code",
   "execution_count": 5,
   "metadata": {},
   "outputs": [
    {
     "name": "stdout",
     "output_type": "stream",
     "text": [
      "0         Good\n",
      "1    Excellent\n",
      "2    Very Poor\n",
      "3    Very Poor\n",
      "4         Good\n",
      "Name: Rating of Online Class experience, dtype: object\n"
     ]
    }
   ],
   "source": [
    "print(df['Rating of Online Class experience'].str.title().head(5))\n"
   ]
  },
  {
   "attachments": {},
   "cell_type": "markdown",
   "metadata": {},
   "source": [
    "C. Сколько спят учащиеся?\n",
    "\n",
    "В нашем датасете есть переменная, указывающая на среднее количество сна в день ['Time spent on sleep']. Для здорового человека нормально спать 7-8 часов. Но учащиеся могут спать больше или меньше необходимого времени сна. То есть они могут спать например меньше 7 (6.9 часов) и больше 8 часов. Оптимальным количеством сна является 7-8 часов сна.\n",
    "\n",
    "Вам необходимо вывести количество учащихся, которые спят больше или меньше оптимального времени для сна. Одним из способом решения этой переменной будут следующие шаги:\n",
    "\n",
    "1. Воспользоваться циклом для создания новой переменной (название которой может быть 'Sleep') по переменной['Time spent on sleep'] , где необходимо прописать следующие условия. Если ['Time spent on sleep'] меньше 9, но при этом больше 6.9, то это нормальное количество сна ('normal'), в другом случае значение переменной будет 'not normal'.\n",
    "2. Сделать фильтр по новой переменной, таким образом, чтобы мы оставили строки со значением сна'not normal'.\n",
    "3. Вывести количество строк отфильтрованного датасета (например, с помощью функции 'len()').\n",
    "Датасет доступен под названием 'COVID-19 Survey Student Responses.csv'"
   ]
  },
  {
   "cell_type": "code",
   "execution_count": 6,
   "metadata": {},
   "outputs": [],
   "source": [
    "df_covid=pd.read_csv(\"COVID-19 Survey Student Responses.csv\")"
   ]
  },
  {
   "cell_type": "code",
   "execution_count": 7,
   "metadata": {},
   "outputs": [
    {
     "name": "stdout",
     "output_type": "stream",
     "text": [
      "<class 'pandas.core.frame.DataFrame'>\n",
      "RangeIndex: 1182 entries, 0 to 1181\n",
      "Data columns (total 19 columns):\n",
      " #   Column                                                                              Non-Null Count  Dtype  \n",
      "---  ------                                                                              --------------  -----  \n",
      " 0   ID                                                                                  1182 non-null   object \n",
      " 1   Region of residence                                                                 1182 non-null   object \n",
      " 2   Age of Subject                                                                      1182 non-null   int64  \n",
      " 3   Time spent on Online Class                                                          1182 non-null   float64\n",
      " 4   Rating of Online Class experience                                                   1158 non-null   object \n",
      " 5   Medium for online class                                                             1131 non-null   object \n",
      " 6   Time spent on self study                                                            1182 non-null   float64\n",
      " 7   Time spent on fitness                                                               1182 non-null   float64\n",
      " 8   Time spent on sleep                                                                 1182 non-null   float64\n",
      " 9   Time spent on social media                                                          1182 non-null   float64\n",
      " 10  Prefered social media platform                                                      1165 non-null   object \n",
      " 11  Time spent on TV                                                                    1182 non-null   object \n",
      " 12  Number of meals per day                                                             1182 non-null   int64  \n",
      " 13  Change in your weight                                                               1182 non-null   object \n",
      " 14  Health issue during lockdown                                                        1182 non-null   object \n",
      " 15  Stress busters                                                                      1182 non-null   object \n",
      " 16  Time utilized                                                                       1182 non-null   object \n",
      " 17  Do you find yourself more connected with your family, close friends , relatives  ?  1182 non-null   object \n",
      " 18  What you miss the most                                                              1182 non-null   object \n",
      "dtypes: float64(5), int64(2), object(12)\n",
      "memory usage: 175.6+ KB\n"
     ]
    }
   ],
   "source": [
    "df_covid.info()"
   ]
  },
  {
   "cell_type": "code",
   "execution_count": 8,
   "metadata": {},
   "outputs": [
    {
     "data": {
      "text/plain": [
       "529"
      ]
     },
     "execution_count": 8,
     "metadata": {},
     "output_type": "execute_result"
    }
   ],
   "source": [
    "\n",
    "df_covid=df_covid.assign(Sleep=['normal' if 6.9 < x < 9 else 'not normal' for x in df_covid['Time spent on sleep']])\n",
    "len(df_covid[df_covid['Sleep']=='not normal'])"
   ]
  },
  {
   "attachments": {},
   "cell_type": "markdown",
   "metadata": {},
   "source": [
    "D. Часы в день\n",
    "\n",
    "Мы обратим внимание на переменную 'Time spent on TV', которая содержит в себе не только числовые показатели, но и категориальные значения (object), такие как \"N\", \"n\", \"No tv\". Для анализа переменной необходимо изменить другие значения помимо числовых на \"0\". Далее после обработки датасета выведите тип переменной.\n",
    "\n",
    "Датасет доступен под названием 'COVID-19 Survey Student Responses.csv'"
   ]
  },
  {
   "cell_type": "code",
   "execution_count": 9,
   "metadata": {},
   "outputs": [
    {
     "data": {
      "text/plain": [
       "type_of_num\n",
       "<class 'str'>    1182\n",
       "Name: count, dtype: int64"
      ]
     },
     "execution_count": 9,
     "metadata": {},
     "output_type": "execute_result"
    }
   ],
   "source": [
    "df_covid = pd.read_csv(\"COVID-19 Survey Student Responses.csv\")\n",
    "df_covid=df_covid.assign(type_of_num=[type(x) for x in df_covid['Time spent on TV']])\n",
    "df_covid['type_of_num'].value_counts()"
   ]
  },
  {
   "cell_type": "code",
   "execution_count": 11,
   "metadata": {},
   "outputs": [
    {
     "data": {
      "text/plain": [
       "dtype('float64')"
      ]
     },
     "execution_count": 11,
     "metadata": {},
     "output_type": "execute_result"
    }
   ],
   "source": [
    "def isNumber(s):\n",
    "    try:\n",
    "        float(s) or int(s)\n",
    "        return True\n",
    "    except ValueError:\n",
    "        return False\n",
    "    \n",
    "    \n",
    "df_covid['Time spent on TV'] = df_covid['Time spent on TV'].apply(\n",
    "    lambda x: x if isNumber(x) else '0').astype(float)\n",
    "df_covid['Time spent on TV'].dtype\n",
    "# df_covid['Time spent on TV'].value_counts()\n"
   ]
  },
  {
   "attachments": {},
   "cell_type": "markdown",
   "metadata": {},
   "source": [
    "E. Взаимосвязано ли количество сна и время, проведенное в социальных сетях?\n",
    "\n",
    "Для ответа на данный вопрос мы будем работать с двумя переменными 'Time spent on sleep' и 'Time spent on social media'. Мы хотим выяснить связано ли недосыпание учащихся с временем, проведенным ими в социальных сетях.\n",
    "\n",
    "В начале перекодируйте переменные на бинарные категории: 'normal' и 'not normal'. Нормальное количество сна для людей – больше 7 часов. Нормальное время, проведенное в сети – это меньше 2 часов в день. Перекодируйте переменные, а затем воспользуйтесь результатом Хи-теста и выведите результат Хи-квадрата.\n",
    "\n",
    "Одним из способом решения задачи являются следующие шаги:\n",
    "\n",
    "1. Воспользоваться циклом для создания новой переменной (название которой может быть 'Sleep') по переменной['Time spent on sleep'] , где необходимо прописать следующие условия. Если ['Time spent on sleep'] меньше 9, но при этом больше 6.9, то это нормальное количество сна ('normal'), в другом случае значение переменной будет 'not normal'.\n",
    "2. Воспользоваться циклом для создания еще одной новой переменной (название которой может быть 'Media') по переменной['Time spent on social media'] , где необходимо прописать следующие условия. Если ['Time spent on social media'] меньше 2, то это нормальное количество времяпровождения в социальных сетей ('normal'), в другом случае значение переменной будет 'not normal'.\n",
    "3. Воспользуйтесь функцией 'pd.crosstab' для подготовки данных к выдачи Хи-квадрата. crosstab() — метод, который помогает создать кросс-таблицу, показывает распределение данных по двум переменным. То есть вам необходимо применить метод  crosstab для двух, созданных вами, переменных (в качестве примера - это переменные 'Sleep' и 'Media').\n",
    "4. Воспользуйтесь функцией 'chi2_contingency' из пакета 'stats' и выведите значение Хи-квадрата.\n",
    "Датасет доступен под названием 'COVID-19 Survey Student Responses.csv'"
   ]
  },
  {
   "cell_type": "code",
   "execution_count": 16,
   "metadata": {},
   "outputs": [
    {
     "data": {
      "text/plain": [
       "4.0632496096156885"
      ]
     },
     "execution_count": 16,
     "metadata": {},
     "output_type": "execute_result"
    }
   ],
   "source": [
    "from scipy.stats import chi2_contingency\n",
    "df_covid = pd.read_csv(\"COVID-19 Survey Student Responses.csv\")\n",
    "\n",
    "df_covid = df_covid.assign(\n",
    "    Sleep=['normal' if 7 <= x else 'not normal' for x in df_covid['Time spent on sleep']])\n",
    "df_covid = df_covid.assign(\n",
    "    Media=['normal' if x < 2 else 'not normal' for x in df_covid['Time spent on social media']])\n",
    "\n",
    "\n",
    "my_table = pd.crosstab(df_covid['Sleep'], df_covid['Media'])\n",
    "\n",
    "res=chi2_contingency(my_table)\n",
    "res[0]\n"
   ]
  },
  {
   "attachments": {},
   "cell_type": "markdown",
   "metadata": {},
   "source": [
    "F. Взаимосвязано ли количество сна и время, проведенное на в социальных сетях? 2.0\n",
    "\n",
    "Мы хотим выяснить, связано ли недосыпание учащихся с временем, проведенным ими в социальных сетях.\n",
    "\n",
    "В начале перекодируйте переменные на бинарные категории: 'normal' и 'not normal'. Нормальное количество сна для людей – больше 7 часов. Нормальное время, проведенное в сети –это меньше 2 часов в день. Перекодируйте переменные, а затем воспользуйтесь результатом Хи-теста и выведите результат Хи-квадрата.\n",
    "\n",
    "Напишите аналогичный код из предыдущей задачи. (Рассчитайте Хи-квадрат для переменных 'Time spent on sleep' и 'Time spent on social media') и выведите результат p-value.\n",
    "\n",
    "Датасет доступен под названием 'COVID-19 Survey Student Responses.csv'"
   ]
  },
  {
   "cell_type": "code",
   "execution_count": 18,
   "metadata": {},
   "outputs": [
    {
     "data": {
      "text/plain": [
       "0.04382608418680551"
      ]
     },
     "execution_count": 18,
     "metadata": {},
     "output_type": "execute_result"
    }
   ],
   "source": [
    "res[1]"
   ]
  },
  {
   "attachments": {},
   "cell_type": "markdown",
   "metadata": {},
   "source": [
    "G. Замена значений переменных с одних на другие\n",
    "\n",
    "Для удобной работы категориальные переменные перекодируют в числовые. В этой задаче мы будем работать с бинарной переменной 'Health issue during lockdown'.\n",
    "\n",
    "Перекодируйте значения переменной \"YES\" и \"NO\", на \"1\" и \"0\", соответственно.\n",
    "\n",
    "В выдаче выведите количество значений по данной переменной.\n",
    "\n",
    "Датасет доступен под названием 'COVID-19 Survey Student Responses.csv'"
   ]
  },
  {
   "cell_type": "code",
   "execution_count": 21,
   "metadata": {},
   "outputs": [
    {
     "name": "stdout",
     "output_type": "stream",
     "text": [
      "Health issue during lockdown\n",
      "0    1021\n",
      "1     161\n",
      "Name: count, dtype: int64\n"
     ]
    }
   ],
   "source": [
    "df_covid = pd.read_csv(\"COVID-19 Survey Student Responses.csv\")\n",
    "df_covid[\"Health issue during lockdown\"].replace(['YES','NO'],['1','0'],inplace=True)\n",
    "print(df_covid['Health issue during lockdown'].value_counts())\n"
   ]
  },
  {
   "attachments": {},
   "cell_type": "markdown",
   "metadata": {},
   "source": [
    "H. Сколько читают учащиеся, справляясь со стрессом?\n",
    "\n",
    "Чтобы понять находятся ли опеределенное слово, символ или другой показатель в значениях переменных, можно воспользоваться функцией contains(). Подробно об этой функции можно прочесть по ссылке https://pandas.pydata.org/pandas-docs/stable/reference/api/pandas.Series.str.contains.html. В этой задаче вы будете работать с переменной 'Stress busters'. Выведите количество учащихся, которые используют книги в качестве профилактики борьбы со стрессом (встречаемость 'book' в значениях переменной).\n",
    "\n",
    "Датасет доступен под названием 'COVID-19 Survey Student Responses.csv'"
   ]
  },
  {
   "cell_type": "code",
   "execution_count": 74,
   "metadata": {},
   "outputs": [
    {
     "data": {
      "text/plain": [
       "False    1097\n",
       "True       85\n",
       "Name: Stress busters, dtype: int64"
      ]
     },
     "execution_count": 74,
     "metadata": {},
     "output_type": "execute_result"
    }
   ],
   "source": [
    "df_covid['Stress busters'].str.contains('book',regex=False).value_counts()"
   ]
  },
  {
   "attachments": {},
   "cell_type": "markdown",
   "metadata": {},
   "source": [
    "I. Самая популярная платформа среди социльных сетей\n",
    "\n",
    "Определите наиболее популярную медиаплатформу в социальных сетях. (переменная 'Prefered social media platform')\n",
    "\n",
    "Отфильтруйте пользователей, которые используют эту платформу для социальной сети и вычислите, в среднем сколько времени в день проводят в социальных медиа (переменная 'Time spent on social media') пользователи, которые предпочитают популярную социальную платформу. Результат округлите до сотых.\n",
    "\n",
    "Датасет доступен под названием 'COVID-19 Survey Student Responses.csv'"
   ]
  },
  {
   "cell_type": "code",
   "execution_count": 29,
   "metadata": {},
   "outputs": [
    {
     "data": {
      "text/plain": [
       "2.91"
      ]
     },
     "execution_count": 29,
     "metadata": {},
     "output_type": "execute_result"
    }
   ],
   "source": [
    "pl=df_covid['Prefered social media platform'].value_counts().head(1).index.item()\n",
    "round(df_covid[df_covid['Prefered social media platform'] == pl]['Time spent on social media'].mean(),2)\n"
   ]
  },
  {
   "attachments": {},
   "cell_type": "markdown",
   "metadata": {},
   "source": [
    "J. Кто проводит больше времени в социальных медиа?\n",
    "\n",
    "В предыдущей задаче мы выяснили, что пользователи, которые предпочитают Инстаграм, используют социальные медиа в среднем около 2.91 часа.\n",
    "\n",
    "Чтобы понять насколько пользователи Инстаграма отличаются от пользователей, отдающих предпочтения другой социальной сети, необходимо сделать подобную аналитику.\n",
    "\n",
    "Определите платформу, в которой пользователи проводят больше всего времени в среднем.\n",
    "\n",
    "Результат выведите через пробел. В начале укажите название предпочитаемой социальной сети, а затем среднее количество времени, затрачиваемое на пользование социальными сетями через пробел. Результат округлите до сотых.\n",
    "\n",
    "Датасет доступен под названием 'COVID-19 Survey Student Responses.csv'"
   ]
  },
  {
   "cell_type": "code",
   "execution_count": 33,
   "metadata": {},
   "outputs": [
    {
     "name": "stdout",
     "output_type": "stream",
     "text": [
      "Talklife 10.0\n"
     ]
    }
   ],
   "source": [
    "pl=df_covid['Prefered social media platform'].value_counts().index.tolist()\n",
    "d={}\n",
    "for item in pl:\n",
    "  d[item]=round(df_covid[df_covid['Prefered social media platform']\n",
    "           == item]['Time spent on social media'].mean(),2)\n",
    "res=[[k,v] for k,v in sorted(d.items(),key=lambda x: x[1],reverse=True)]\n",
    "print(res[0][0],res[0][1])\n"
   ]
  }
 ],
 "metadata": {
  "kernelspec": {
   "display_name": "Python 3",
   "language": "python",
   "name": "python3"
  },
  "language_info": {
   "codemirror_mode": {
    "name": "ipython",
    "version": 3
   },
   "file_extension": ".py",
   "mimetype": "text/x-python",
   "name": "python",
   "nbconvert_exporter": "python",
   "pygments_lexer": "ipython3",
   "version": "3.8.5"
  },
  "orig_nbformat": 4
 },
 "nbformat": 4,
 "nbformat_minor": 2
}
