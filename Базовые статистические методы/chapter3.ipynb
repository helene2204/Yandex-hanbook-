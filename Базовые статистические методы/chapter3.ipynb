{
 "cells": [
  {
   "cell_type": "code",
   "execution_count": 1,
   "metadata": {},
   "outputs": [],
   "source": [
    "import pandas as pd"
   ]
  },
  {
   "attachments": {},
   "cell_type": "markdown",
   "metadata": {},
   "source": [
    "A. Самый популярный писатель\n",
    "\n",
    "В этой и в следующих задачах мы используем набор данных с самыми популярными книгами на Amazon. Мы добавили в него несколько дополнительных переменных. CSV-файл доступен под названием “books_prep.csv”.\n",
    "\n",
    "В прошлых главах мы говорили о том, что метод describe выводит несколько полезных описательных статистик. Мы получаем результат в виде серии (так называется датафрейм из одной колонки), поэтому мы можем вывести отдельный показатель, используя стандартный синтаксис pandas.\n",
    "\n",
    "Например, чтобы вывести среднее значение, мы можем использовать следующую инструкцию: df['col_name'].describe()['mean']\n",
    "\n",
    "Выведите имя самого популярного писателя в наборе данных\n",
    "Чтобы решить задачу, используйте описанный выше синтаксис уточнений к методу describe."
   ]
  },
  {
   "cell_type": "code",
   "execution_count": 3,
   "metadata": {},
   "outputs": [],
   "source": [
    "df=pd.read_csv('books_prep.csv')"
   ]
  },
  {
   "cell_type": "code",
   "execution_count": 8,
   "metadata": {},
   "outputs": [
    {
     "data": {
      "text/plain": [
       "'Jeff Kinney'"
      ]
     },
     "execution_count": 8,
     "metadata": {},
     "output_type": "execute_result"
    }
   ],
   "source": [
    "df['Author'].describe()['top']"
   ]
  },
  {
   "attachments": {},
   "cell_type": "markdown",
   "metadata": {},
   "source": [
    "B. Среднее значение рейтинга 1\n",
    "\n",
    "Определите средние значения рейтинга для «дешёвых» и «дорогих» книг.\n",
    "Попробуем исследовать этот набор данных. Мы создали переменную “Price (Above Average)”, которая содержит “Yes”, если цена книги больше средней, и “No”, если меньше.\n",
    "\n",
    "Мы предполагаем, что рейтинг книги не зависит от её стоимости. Давайте проверим эту гипотезу. Начнём с того, что выведем средние значения пользовательского рейтинга для каждой из групп.\n",
    "\n",
    "Вам необходимо загрузить набор данных и напечатать средний рейтинг для «дорогих» книг. CSV-файл доступен под названием “books_prep.csv”.\n",
    "\n",
    "Округлите ответ до 2 числа после запятой с помощью команды round."
   ]
  },
  {
   "cell_type": "code",
   "execution_count": 17,
   "metadata": {},
   "outputs": [
    {
     "data": {
      "text/plain": [
       "4.56"
      ]
     },
     "execution_count": 17,
     "metadata": {},
     "output_type": "execute_result"
    }
   ],
   "source": [
    "exp_book = df[df['Price (Above Average)'] == 'Yes']['User Rating']\n",
    "round(exp_book.mean(),2)"
   ]
  },
  {
   "attachments": {},
   "cell_type": "markdown",
   "metadata": {},
   "source": [
    "C. Среднее значение рейтинга 2\n",
    "\n",
    "Определите средние значения рейтинга для «дешёвых» и «дорогих» книг.\n",
    "А теперь вам необходимо загрузить набор данных и напечатать средний рейтинг для «дешёвых» книг. CSV-файл доступен под названием “books_prep.csv”.\n",
    "\n",
    "Округлите ответ до 2 числа после запятой с помощью команды round."
   ]
  },
  {
   "cell_type": "code",
   "execution_count": 18,
   "metadata": {},
   "outputs": [
    {
     "data": {
      "text/plain": [
       "4.65"
      ]
     },
     "execution_count": 18,
     "metadata": {},
     "output_type": "execute_result"
    }
   ],
   "source": [
    "ch_book=df[df['Price (Above Average)']=='No']['User Rating']\n",
    "round(ch_book.mean(),2)"
   ]
  },
  {
   "attachments": {},
   "cell_type": "markdown",
   "metadata": {},
   "source": [
    "D. P-value\n",
    "\n",
    "Проведите тест для определения равенства дисперсий. Выведите значение p-value.\n",
    "Прежде чем сравнивать средние, нам необходимо сравнить дисперсии. Для этого мы можем использовать критерий Левене.\n",
    "\n",
    "Проведите тест для определения равенства дисперсий у “дешёвых” и “дорогих” книг. Выведите значение p-value.\n",
    "\n",
    "Вам необходимо вывести только значение p-value и округлить его до 2 знаков после запятой с помощью команды round. Попробуйте немного изменить функцию levene('add something here').pvalue. CSV-файл доступен под названием “books_prep.csv”."
   ]
  },
  {
   "attachments": {},
   "cell_type": "markdown",
   "metadata": {},
   "source": [
    "Критерий Левене\n",
    "Проверка равенства дисперсий\n",
    "H0: у дешевых и дорогих книг дисперсии равны\n",
    "pvalue>0.05 принимаем H0"
   ]
  },
  {
   "cell_type": "code",
   "execution_count": 21,
   "metadata": {},
   "outputs": [
    {
     "data": {
      "text/plain": [
       "0.1"
      ]
     },
     "execution_count": 21,
     "metadata": {},
     "output_type": "execute_result"
    }
   ],
   "source": [
    "from scipy.stats import levene\n",
    "round(levene(exp_book,ch_book).pvalue,2)"
   ]
  },
  {
   "attachments": {},
   "cell_type": "markdown",
   "metadata": {},
   "source": [
    "E. Равенство средних\n",
    "\n",
    "Проведите тест для определения равенства средних. Выведите значение p-value\n",
    "Теперь давайте попробуем понять, является ли значимым то различие между средними, которое мы увидели. Вам снова необходимо вывести только значение p-value и округлить его до 2 знаков после запятой с помощью команды round. Модифицировать метод необходимо аналогично предыдущей задаче.\n",
    "\n",
    "CSV-файл доступен под названием “books_prep.csv”."
   ]
  },
  {
   "attachments": {},
   "cell_type": "markdown",
   "metadata": {},
   "source": [
    "T-test\n",
    "Тип: параметрический\n",
    "Применение: Есть ли различия в среднем значении между двумя группами наблюдений\n",
    "Данные: дорогие/дешевые книги -- рейтинг\n",
    "H0: Средние значения рейтинга для дорогих и дешевых книг не отличаются значимо\n",
    "pvalue<0.05, поэтому не можем принять H0"
   ]
  },
  {
   "cell_type": "code",
   "execution_count": 30,
   "metadata": {},
   "outputs": [
    {
     "data": {
      "text/plain": [
       "0.0"
      ]
     },
     "execution_count": 30,
     "metadata": {},
     "output_type": "execute_result"
    }
   ],
   "source": [
    "from scipy.stats import ttest_ind\n",
    "round(ttest_ind(exp_book,ch_book,equal_var=True).pvalue,2)"
   ]
  },
  {
   "attachments": {},
   "cell_type": "markdown",
   "metadata": {},
   "source": [
    "F. ANOVA\n",
    "\n",
    "Проведите тест ANOVA. Выведите значение p-value\n",
    "Ещё в этом примере мы создали переменную “User Rating (Round)”, которая содержит округлённые до целого значения среднего пользовательского рейтинга. Мы предполагаем, что рейтинг книги для каждой из групп, — у нас получилось их три, — зависит от числа рецензий (на хорошие книги люди охотнее пишут рецензии). Давайте проверим эту гипотезу с помощью теста ANOVA.\n",
    "\n",
    "Вам необходимо загрузить набор данных и вывести только значение p-value, округленное до 2 знаков после запятой. CSV-файл доступен под названием “books_prep.csv”."
   ]
  },
  {
   "attachments": {},
   "cell_type": "markdown",
   "metadata": {},
   "source": [
    "ANOVA\n",
    "Тип: параметрический\n",
    "Применяется: есть ли различия в среднем значении какой-то переменной, когда групп наблюдений больше 2\n",
    "Данные: Категориальная - Округленный рейтинг(5,4,3), непрерывная - Количество отзывов\n",
    "H0: Рейтинг книги для каждой из групп не зависит от числа рецензий (между группами по рейтингу нет различия в средних количества рецензий)\n",
    "pvalue>0.05 принимаем H0\n"
   ]
  },
  {
   "cell_type": "code",
   "execution_count": 29,
   "metadata": {},
   "outputs": [
    {
     "data": {
      "text/plain": [
       "0.3"
      ]
     },
     "execution_count": 29,
     "metadata": {},
     "output_type": "execute_result"
    }
   ],
   "source": [
    "\n",
    "from scipy.stats import f_oneway\n",
    "ur_5 = df[(df['User Rating (Round)'] == 5)]['Reviews']\n",
    "ur_4 = df[(df['User Rating (Round)'] == 4)]['Reviews']\n",
    "ur_3 = df[(df['User Rating (Round)'] == 3)]['Reviews']\n",
    "round(f_oneway(ur_5,ur_4,ur_3).pvalue,2)"
   ]
  }
 ],
 "metadata": {
  "kernelspec": {
   "display_name": "Python 3",
   "language": "python",
   "name": "python3"
  },
  "language_info": {
   "codemirror_mode": {
    "name": "ipython",
    "version": 3
   },
   "file_extension": ".py",
   "mimetype": "text/x-python",
   "name": "python",
   "nbconvert_exporter": "python",
   "pygments_lexer": "ipython3",
   "version": "3.8.5"
  },
  "orig_nbformat": 4
 },
 "nbformat": 4,
 "nbformat_minor": 2
}
